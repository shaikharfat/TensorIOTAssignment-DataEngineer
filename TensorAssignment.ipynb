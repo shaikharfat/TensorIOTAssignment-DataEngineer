{
 "cells": [
  {
   "cell_type": "markdown",
   "id": "b7e5009e",
   "metadata": {},
   "source": [
    "# I. Download a review file with a million reviews & read the million reviews"
   ]
  },
  {
   "cell_type": "code",
   "execution_count": 271,
   "id": "6f82e6d4",
   "metadata": {},
   "outputs": [
    {
     "name": "stdout",
     "output_type": "stream",
     "text": [
      "root\n",
      " |-- asin: string (nullable = true)\n",
      " |-- helpful: array (nullable = true)\n",
      " |    |-- element: long (containsNull = true)\n",
      " |-- overall: double (nullable = true)\n",
      " |-- reviewText: string (nullable = true)\n",
      " |-- reviewTime: string (nullable = true)\n",
      " |-- reviewerID: string (nullable = true)\n",
      " |-- reviewerName: string (nullable = true)\n",
      " |-- summary: string (nullable = true)\n",
      " |-- unixReviewTime: long (nullable = true)\n",
      "\n",
      "+----------+--------+-------+--------------------+-----------+--------------+--------------------+--------------------+--------------+\n",
      "|      asin| helpful|overall|          reviewText| reviewTime|    reviewerID|        reviewerName|             summary|unixReviewTime|\n",
      "+----------+--------+-------+--------------------+-----------+--------------+--------------------+--------------------+--------------+\n",
      "|0528881469|  [0, 0]|    5.0|We got this GPS f...| 06 2, 2013| AO94DHGC771SJ|             amazdnu|     Gotta have GPS!|    1370131200|\n",
      "|0528881469|[12, 15]|    1.0|I'm a professiona...|11 25, 2010| AMO214LNFCEI4|     Amazon Customer|   Very Disappointed|    1290643200|\n",
      "|0528881469|[43, 45]|    3.0|Well, what can I ...| 09 9, 2010|A3N7T0DY83Y4IG|       C. A. Freeman|      1st impression|    1283990400|\n",
      "|0528881469| [9, 10]|    2.0|Not going to writ...|11 24, 2010|A1H8PY3QHMQQA0|Dave M. Shaw \"mac...|Great grafics, PO...|    1290556800|\n",
      "|0528881469|  [0, 0]|    1.0|I've had mine for...|09 29, 2011|A24EV6RXELQZ63|         Wayne Smith|Major issues, onl...|    1317254400|\n",
      "+----------+--------+-------+--------------------+-----------+--------------+--------------------+--------------------+--------------+\n",
      "only showing top 5 rows\n",
      "\n"
     ]
    }
   ],
   "source": [
    "import findspark\n",
    "findspark.init()\n",
    "import pyspark # only run after findspark.init()\n",
    "from pyspark.sql import SparkSession\n",
    "from pyspark.sql import *\n",
    "\n",
    "spark = SparkSession.builder.getOrCreate()\n",
    "\n",
    "#downloaded 'Electronics_5.json' having 1.6 million reviews and reading them\n",
    "\n",
    "df = spark.read.json(r'C:\\Users\\Xpro\\Downloads\\Electronics_5.json')\n",
    "df.printSchema()\n",
    "df.show(5)"
   ]
  },
  {
   "cell_type": "markdown",
   "id": "3c0fec76",
   "metadata": {},
   "source": [
    "# II. Item having the least rating"
   ]
  },
  {
   "cell_type": "code",
   "execution_count": 42,
   "id": "7a6790b1",
   "metadata": {},
   "outputs": [
    {
     "name": "stdout",
     "output_type": "stream",
     "text": [
      "+--------------------+------------+----------+\n",
      "|     min(reviewerID)|min(overall)| min(asin)|\n",
      "+--------------------+------------+----------+\n",
      "|A000715434M800HLC...|         1.0|0528881469|\n",
      "+--------------------+------------+----------+\n",
      "\n"
     ]
    }
   ],
   "source": [
    "df.agg({'overall': 'min', 'asin': 'min','reviewerID':'min'}).show()"
   ]
  },
  {
   "cell_type": "markdown",
   "id": "da0c9fec",
   "metadata": {},
   "source": [
    "# III.a: Item having the most rating (Method 1)"
   ]
  },
  {
   "cell_type": "code",
   "execution_count": 249,
   "id": "f6ad999f",
   "metadata": {},
   "outputs": [
    {
     "name": "stdout",
     "output_type": "stream",
     "text": [
      "+----------------+----------+\n",
      "|      max_rating|      asin|\n",
      "+----------------+----------+\n",
      "|[5.0,B00LGQ6HL8]|B00LGQ6HL8|\n",
      "+----------------+----------+\n",
      "\n"
     ]
    }
   ],
   "source": [
    "df = df.withColumn('new_col',struct(df.overall,df.asin))\n",
    "\n",
    "max_df = df.agg(max('new_col').alias('max_rating'))\n",
    "max_df = max_df.withColumn('asin',max_df.max_rating.asin)\n",
    "max_df.show()\n"
   ]
  },
  {
   "cell_type": "markdown",
   "id": "1cee6ba0",
   "metadata": {},
   "source": [
    "# III.b: Item having the most rating (Method 2)"
   ]
  },
  {
   "cell_type": "code",
   "execution_count": 36,
   "id": "c5525edb",
   "metadata": {},
   "outputs": [
    {
     "name": "stdout",
     "output_type": "stream",
     "text": [
      "+---------------+------------+----------+\n",
      "|max(reviewerID)|max(overall)| max(asin)|\n",
      "+---------------+------------+----------+\n",
      "|  AZZYW4YOE1B6E|         5.0|B00LGQ6HL8|\n",
      "+---------------+------------+----------+\n",
      "\n"
     ]
    }
   ],
   "source": [
    "df.agg({'overall': 'max', 'asin': 'max','reviewerID':'max'}).show()"
   ]
  },
  {
   "cell_type": "markdown",
   "id": "5631c942",
   "metadata": {},
   "source": [
    "# IV. Item having the longest review"
   ]
  },
  {
   "cell_type": "code",
   "execution_count": 262,
   "id": "1f6f782b",
   "metadata": {},
   "outputs": [
    {
     "name": "stdout",
     "output_type": "stream",
     "text": [
      "+-------------+----------+--------------------+---------+-------+\n",
      "|   reviewerID|      asin|          reviewText|wordcount|overall|\n",
      "+-------------+----------+--------------------+---------+-------+\n",
      "|AZZYW4YOE1B6E|B00LGQ6HL8|~~~~~~~~~~~~~~~~~...|    32703|    5.0|\n",
      "+-------------+----------+--------------------+---------+-------+\n",
      "\n"
     ]
    }
   ],
   "source": [
    "df_length = df.select('*',length('reviewText').alias('word count'))\n",
    "df_length=df_length.agg({'word count':'max','overall': 'max', 'asin': 'max','reviewerID':'max', 'reviewText': 'max'})\n",
    "df_length=df_length.withColumnRenamed(\"max(reviewerID)\",\"reviewerID\").withColumnRenamed(\"max(asin)\",\"asin\").withColumnRenamed(\"max(word count)\",\"wordcount\").withColumnRenamed(\"max(overall)\",\"overall\").withColumnRenamed(\"max(reviewText)\",\"reviewText\")\n",
    "df_length.show()\n",
    "\n"
   ]
  },
  {
   "cell_type": "markdown",
   "id": "232892c2",
   "metadata": {},
   "source": [
    "# V. Transform: change the date MM-DD-YYYY format"
   ]
  },
  {
   "cell_type": "code",
   "execution_count": 264,
   "id": "bdebbc07",
   "metadata": {},
   "outputs": [
    {
     "name": "stdout",
     "output_type": "stream",
     "text": [
      "+----------+------------------+\n",
      "|      date|date_in_dateFormat|\n",
      "+----------+------------------+\n",
      "| 06-2-2013|        2013-06-02|\n",
      "|11-25-2010|        2010-11-25|\n",
      "| 09-9-2010|        2010-09-09|\n",
      "|11-24-2010|        2010-11-24|\n",
      "|09-29-2011|        2011-09-29|\n",
      "+----------+------------------+\n",
      "only showing top 5 rows\n",
      "\n"
     ]
    }
   ],
   "source": [
    "df = df.withColumn('date', regexp_replace('reviewTime', ', ', '-'))\\\n",
    "        .withColumn('date', regexp_replace('date', ' ', '-'))\n",
    "\n",
    "df= df.withColumn('date_in_dateFormat', to_date(unix_timestamp(col('date'), 'MM-dd-yyyy').cast(\"timestamp\")))\n",
    "df.select('date','date_in_dateFormat').show(5)"
   ]
  },
  {
   "cell_type": "markdown",
   "id": "9dde38c6",
   "metadata": {},
   "source": [
    "# VI. Show a desired data frame operation which you learnt recently"
   ]
  },
  {
   "cell_type": "code",
   "execution_count": 294,
   "id": "dd81fd71",
   "metadata": {},
   "outputs": [
    {
     "name": "stdout",
     "output_type": "stream",
     "text": [
      "+-------+----------+-----+\n",
      "|overall|      asin|Grade|\n",
      "+-------+----------+-----+\n",
      "|    5.0|0528881469| good|\n",
      "|    1.0|0528881469|  bad|\n",
      "|    3.0|0528881469|  bad|\n",
      "|    2.0|0528881469|  bad|\n",
      "|    1.0|0528881469|  bad|\n",
      "+-------+----------+-----+\n",
      "only showing top 5 rows\n",
      "\n"
     ]
    }
   ],
   "source": [
    "from pyspark.sql.types import StringType\n",
    "\n",
    "#Here's a simple example of UDF used to grade electronics based on their overall rating\n",
    "\n",
    "determine_grade_udf = udf(lambda x: 'good' if x>=4.0 else 'bad',StringType())\n",
    "\n",
    "df_with_grade = df['overall','asin']\n",
    "df_with_grade = df_with_grade.withColumn(\"Grade\",determine_grade_udf(df.overall))\n",
    "\n",
    "df_with_grade.show(5)"
   ]
  },
  {
   "cell_type": "markdown",
   "id": "fe461ec2",
   "metadata": {},
   "source": [
    "# VII. Convert the whole file into Parquet file after transforming."
   ]
  },
  {
   "cell_type": "code",
   "execution_count": 304,
   "id": "b4e25244",
   "metadata": {},
   "outputs": [
    {
     "name": "stdout",
     "output_type": "stream",
     "text": [
      ".part-00000-10358a75-7ba1-4219-8fab-f3047d0db5d5-c000.snappy.parquet.crc\n",
      ".part-00001-10358a75-7ba1-4219-8fab-f3047d0db5d5-c000.snappy.parquet.crc\n",
      ".part-00002-10358a75-7ba1-4219-8fab-f3047d0db5d5-c000.snappy.parquet.crc\n",
      ".part-00003-10358a75-7ba1-4219-8fab-f3047d0db5d5-c000.snappy.parquet.crc\n",
      ".part-00004-10358a75-7ba1-4219-8fab-f3047d0db5d5-c000.snappy.parquet.crc\n",
      ".part-00005-10358a75-7ba1-4219-8fab-f3047d0db5d5-c000.snappy.parquet.crc\n",
      ".part-00006-10358a75-7ba1-4219-8fab-f3047d0db5d5-c000.snappy.parquet.crc\n",
      ".part-00007-10358a75-7ba1-4219-8fab-f3047d0db5d5-c000.snappy.parquet.crc\n",
      ".part-00008-10358a75-7ba1-4219-8fab-f3047d0db5d5-c000.snappy.parquet.crc\n",
      ".part-00009-10358a75-7ba1-4219-8fab-f3047d0db5d5-c000.snappy.parquet.crc\n",
      ".part-00010-10358a75-7ba1-4219-8fab-f3047d0db5d5-c000.snappy.parquet.crc\n",
      ".part-00011-10358a75-7ba1-4219-8fab-f3047d0db5d5-c000.snappy.parquet.crc\n",
      "._SUCCESS.crc\n",
      "part-00000-10358a75-7ba1-4219-8fab-f3047d0db5d5-c000.snappy.parquet\n",
      "part-00001-10358a75-7ba1-4219-8fab-f3047d0db5d5-c000.snappy.parquet\n",
      "part-00002-10358a75-7ba1-4219-8fab-f3047d0db5d5-c000.snappy.parquet\n",
      "part-00003-10358a75-7ba1-4219-8fab-f3047d0db5d5-c000.snappy.parquet\n",
      "part-00004-10358a75-7ba1-4219-8fab-f3047d0db5d5-c000.snappy.parquet\n",
      "part-00005-10358a75-7ba1-4219-8fab-f3047d0db5d5-c000.snappy.parquet\n",
      "part-00006-10358a75-7ba1-4219-8fab-f3047d0db5d5-c000.snappy.parquet\n",
      "part-00007-10358a75-7ba1-4219-8fab-f3047d0db5d5-c000.snappy.parquet\n",
      "part-00008-10358a75-7ba1-4219-8fab-f3047d0db5d5-c000.snappy.parquet\n",
      "part-00009-10358a75-7ba1-4219-8fab-f3047d0db5d5-c000.snappy.parquet\n",
      "part-00010-10358a75-7ba1-4219-8fab-f3047d0db5d5-c000.snappy.parquet\n",
      "part-00011-10358a75-7ba1-4219-8fab-f3047d0db5d5-c000.snappy.parquet\n",
      "_SUCCESS\n"
     ]
    }
   ],
   "source": [
    "#Saving file in parquet format\n",
    "df.write.parquet(r\"C:\\Users\\Xpro\\Documents\\TensorDF.parquet\")\n",
    "\n",
    "#checking the files created\n",
    "import os\n",
    "path = r\"C:\\\\Users\\\\Xpro\\\\Documents\\\\TensorDF.parquet\"\n",
    "\n",
    "for i in os.listdir(path):\n",
    "    print(i)"
   ]
  }
 ],
 "metadata": {
  "kernelspec": {
   "display_name": "Python 3 (ipykernel)",
   "language": "python",
   "name": "python3"
  },
  "language_info": {
   "codemirror_mode": {
    "name": "ipython",
    "version": 3
   },
   "file_extension": ".py",
   "mimetype": "text/x-python",
   "name": "python",
   "nbconvert_exporter": "python",
   "pygments_lexer": "ipython3",
   "version": "3.9.7"
  }
 },
 "nbformat": 4,
 "nbformat_minor": 5
}
